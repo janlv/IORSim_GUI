{
 "cells": [
  {
   "cell_type": "code",
   "execution_count": 1,
   "metadata": {},
   "outputs": [],
   "source": [
    "import numpy as np\n",
    "from IORlib.ECL import Input_file\n",
    "from pathlib import Path\n",
    "from IORlib.utils import matches\n"
   ]
  },
  {
   "cell_type": "code",
   "execution_count": 2,
   "metadata": {},
   "outputs": [],
   "source": [
    "#a = [100,100,200,200,200]*10000\n",
    "#print(', '.join([f'{v} (n={np.sum(np.array(a)==v)})' for v in set(a)]))\n"
   ]
  },
  {
   "cell_type": "code",
   "execution_count": 7,
   "metadata": {},
   "outputs": [
    {
     "name": "stdout",
     "output_type": "stream",
     "text": [
      "[PosixPath('/home/AD.NORCERESEARCH.NO/javi/github/IORSim_GUI/cases/SNORRE-IORSIM-OLD/SNO-SECTOR-COORD.INC'), PosixPath('/home/AD.NORCERESEARCH.NO/javi/github/IORSim_GUI/cases/SNORRE-IORSIM-OLD/SNO-SECTOR-ZCORN.INC'), PosixPath('/home/AD.NORCERESEARCH.NO/javi/github/IORSim_GUI/cases/SNORRE-IORSIM-OLD/SNO-SECTOR-ACTNUM.INC'), PosixPath('/home/AD.NORCERESEARCH.NO/javi/github/IORSim_GUI/cases/SNORRE-IORSIM-OLD/SNO-SECTOR-PERMX.INC'), PosixPath('/home/AD.NORCERESEARCH.NO/javi/github/IORSim_GUI/cases/SNORRE-IORSIM-OLD/SNO-SECTOR-PORO.INC'), PosixPath('/home/AD.NORCERESEARCH.NO/javi/github/IORSim_GUI/cases/SNORRE-IORSIM-OLD/SNO-SECTOR-NTG.INC'), PosixPath('/home/AD.NORCERESEARCH.NO/javi/github/IORSim_GUI/cases/SNORRE-IORSIM-OLD/SNO-SECTOR-MULTNUM.INC'), PosixPath('/home/AD.NORCERESEARCH.NO/javi/github/IORSim_GUI/cases/SNORRE-IORSIM-OLD/SF_KROW_H_12.INC'), PosixPath('/home/AD.NORCERESEARCH.NO/javi/github/IORSim_GUI/cases/SNORRE-IORSIM-OLD/SF_PVDG_2009_FINAL.INC'), PosixPath('/home/AD.NORCERESEARCH.NO/javi/github/IORSim_GUI/cases/SNORRE-IORSIM-OLD/Tempdata_seawater_Borre.INC'), PosixPath('/home/AD.NORCERESEARCH.NO/javi/github/IORSim_GUI/cases/SNORRE-IORSIM-OLD/SATNUM.INC'), PosixPath('/home/AD.NORCERESEARCH.NO/javi/github/IORSim_GUI/cases/SNORRE-IORSIM-OLD/SNO-SECTOR-PVTNUM.INC'), PosixPath('/home/AD.NORCERESEARCH.NO/javi/github/IORSim_GUI/cases/SNORRE-IORSIM-OLD/SNO-SECTOR-EQLNUM.INC'), PosixPath('/home/AD.NORCERESEARCH.NO/javi/github/IORSim_GUI/cases/SNORRE-IORSIM-OLD/SNO-SECTOR-FIPNUM.INC'), PosixPath('/home/AD.NORCERESEARCH.NO/javi/github/IORSim_GUI/cases/SNORRE-IORSIM-OLD/RSVD.INC'), PosixPath('/home/AD.NORCERESEARCH.NO/javi/github/IORSim_GUI/cases/SNORRE-IORSIM-OLD/SNO-SECTOR-P15.vfp'), PosixPath('/home/AD.NORCERESEARCH.NO/javi/github/IORSim_GUI/cases/SNORRE-IORSIM-OLD/SNO-SECTOR-injectors.vfp')]\n"
     ]
    }
   ],
   "source": [
    "#file = Path('cases/SNORRE-ECLIPSE-2020/SNORRE-ECLIPSE-2020.DATA')\n",
    "file = Path('cases/SNORRE-IORSIM-OLD/SNORRE-IORSIM-OLD.DATA')\n",
    "file2 = Path('cases/SNORRE-IORSIM-OLD/SNO-SECTOR-ZCORN.INC')\n",
    "#inc = Input_file(file).include_files()\n",
    "inc = Input_file(file).get('INCLUDE')\n",
    "print(inc)\n",
    "#inc = (Input_file(i).get('INCLUDE') for i in inc)\n",
    "#print(next(inc))\n",
    "#print(next(inc))\n",
    "#print(next(inc))\n",
    "#print(next(inc))\n"
   ]
  },
  {
   "cell_type": "code",
   "execution_count": 9,
   "metadata": {},
   "outputs": [
    {
     "name": "stdout",
     "output_type": "stream",
     "text": [
      "[(b'SNO-SECTOR-COORD.INC',), (b'SNO-SECTOR-ZCORN.INC',), (b'SNO-SECTOR-ACTNUM.INC',), (b'SNO-SECTOR-PERMX.INC',), (b'SNO-SECTOR-PORO.INC',), (b'SNO-SECTOR-NTG.INC',), (b'SNO-SECTOR-MULTNUM.INC',), (b'SF_KROW_H_12.INC',), (b'SF_PVDG_2009_FINAL.INC',), (b'Tempdata_seawater_Borre.INC',), (b'SATNUM.INC',), (b'SNO-SECTOR-PVTNUM.INC',), (b'SNO-SECTOR-EQLNUM.INC',), (b'SNO-SECTOR-FIPNUM.INC',), (b'RSVD.INC',), (b'SNO-SECTOR-P15.vfp',), (b'SNO-SECTOR-injectors.vfp',)]\n"
     ]
    }
   ],
   "source": [
    "#inc = Input_file(file).get('INCLUDE')\n",
    "#file = Path('cases/SNORRE-IORSIM-OLD/SNORRE-IORSIM-OLD.DATA')\n",
    "#gr = [m.groups() for m in matches(file=file2, pattern=r\"(?<!--)\\s*\\bINCLUDE\\b\")]\n",
    "gr = [m.groups() for m in matches(file=file, pattern=r\"(?<!--)\\s*\\bINCLUDE\\b *(?:--.*)*\\s+(?:--.*\\s+)*'*([a-zA-Z0-9_./\\\\-]+)'*\")]\n",
    "print(gr)\n"
   ]
  }
 ],
 "metadata": {
  "kernelspec": {
   "display_name": "Python 3.8.10 64-bit",
   "language": "python",
   "name": "python3"
  },
  "language_info": {
   "codemirror_mode": {
    "name": "ipython",
    "version": 3
   },
   "file_extension": ".py",
   "mimetype": "text/x-python",
   "name": "python",
   "nbconvert_exporter": "python",
   "pygments_lexer": "ipython3",
   "version": "3.8.10"
  },
  "orig_nbformat": 4,
  "vscode": {
   "interpreter": {
    "hash": "916dbcbb3f70747c44a77c7bcd40155683ae19c65e1c03b4aa3499c5328201f1"
   }
  }
 },
 "nbformat": 4,
 "nbformat_minor": 2
}
