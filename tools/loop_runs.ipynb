{
 "cells": [
  {
   "cell_type": "code",
   "execution_count": 2,
   "metadata": {},
   "outputs": [
    {
     "ename": "NameError",
     "evalue": "name 'case' is not defined",
     "output_type": "error",
     "traceback": [
      "\u001b[1;31m---------------------------------------------------------------------------\u001b[0m",
      "\u001b[1;31mNameError\u001b[0m                                 Traceback (most recent call last)",
      "Cell \u001b[1;32mIn[2], line 8\u001b[0m\n\u001b[0;32m      5\u001b[0m \u001b[39mfrom\u001b[39;00m \u001b[39mior2ecl\u001b[39;00m \u001b[39mimport\u001b[39;00m runsim_with_plot\n\u001b[0;32m      7\u001b[0m iorexe \u001b[39m=\u001b[39m Path\u001b[39m.\u001b[39mhome()\u001b[39m/\u001b[39m\u001b[39m'\u001b[39m\u001b[39mDownloads/IORSim/build/bin/IORSimX\u001b[39m\u001b[39m'\u001b[39m\n\u001b[1;32m----> 8\u001b[0m case \u001b[39m=\u001b[39m Path\u001b[39m.\u001b[39mhome()\u001b[39m/\u001b[39mcase\n\u001b[0;32m      9\u001b[0m \u001b[39mprint\u001b[39m(\u001b[39mf\u001b[39m\u001b[39m'\u001b[39m\u001b[39mCASE: \u001b[39m\u001b[39m{\u001b[39;00mcase\u001b[39m.\u001b[39mstem\u001b[39m}\u001b[39;00m\u001b[39m\\n\u001b[39;00m\u001b[39m--------------------------\u001b[39m\u001b[39m'\u001b[39m)\n\u001b[0;32m     10\u001b[0m run \u001b[39m=\u001b[39m \u001b[39mdict\u001b[39m(root\u001b[39m=\u001b[39mcase, time\u001b[39m=\u001b[39mtime, iorexe\u001b[39m=\u001b[39miorexe, delete\u001b[39m=\u001b[39m\u001b[39mTrue\u001b[39;00m, verbose\u001b[39m=\u001b[39m\u001b[39m4\u001b[39m)    \n",
      "\u001b[1;31mNameError\u001b[0m: name 'case' is not defined"
     ]
    }
   ],
   "source": [
    "import sys\n",
    "from pathlib import Path\n",
    "sys.path.append(str(Path.home()/'github/IORSim_GUI'))\n",
    "from ior2ecl import runsim_with_plot\n",
    "\n",
    "#case = Path.home()/'codes/IORSim_GUI/GUI/cases/GEOCHEM_BACK/GEOCHEM_BACK'\n",
    "case = Path.home()/'eclipse/2_snorre/TEST2.DATA', 1000)\n",
    "time = 1000\n",
    "iorexe = Path.home()/'Downloads/IORSim/build/bin/IORSimX'\n",
    "run = dict(root=case, time=time, iorexe=iorexe, delete=True, verbose=4)    \n",
    "plot = dict(keys=('WBHP','WOPT','WWCT'), wells=())\n",
    "runsim_with_plot(run=run, plot=plot, wait=5)\n",
    "\n",
    "#run('codes/IORSim_GUI/GUI/cases/EKOFISK_HAUKAAS_2014_BACK/EKOFISK_HAUKAAS_2014_BACK', 16700)\n",
    "#run('codes/IORSim_GUI/GUI/cases/GEOCHEM_BACK/GEOCHEM_BACK', 1000)\n",
    "run('eclipse/2_snorre/TEST2.DATA', 1000)\n"
   ]
  },
  {
   "cell_type": "code",
   "execution_count": null,
   "metadata": {},
   "outputs": [],
   "source": []
  }
 ],
 "metadata": {
  "kernelspec": {
   "display_name": "Python 3",
   "language": "python",
   "name": "python3"
  },
  "language_info": {
   "codemirror_mode": {
    "name": "ipython",
    "version": 3
   },
   "file_extension": ".py",
   "mimetype": "text/x-python",
   "name": "python",
   "nbconvert_exporter": "python",
   "pygments_lexer": "ipython3",
   "version": "3.10.5"
  },
  "orig_nbformat": 4,
  "vscode": {
   "interpreter": {
    "hash": "26de051ba29f2982a8de78e945f0abaf191376122a1563185a90213a26c5da77"
   }
  }
 },
 "nbformat": 4,
 "nbformat_minor": 2
}
