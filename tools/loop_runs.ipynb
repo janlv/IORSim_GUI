{
 "cells": [
  {
   "cell_type": "code",
   "execution_count": null,
   "metadata": {},
   "outputs": [],
   "source": [
    "import sys\n",
    "from pathlib import Path\n",
    "sys.path.append(str(Path.home()/'github/IORSim_GUI'))\n",
    "from ior2ecl import runsim_with_plot, runsim\n",
    "\n",
    "#case = Path.home()/'github/IORSim_GUI/cases/GEOCHEM_BACK/GEOCHEM_BACK'\n",
    "#case = Path.home()/'eclipse/2_snorre/TEST2.DATA'\n",
    "#case = Path.home()/'github/IORSim_GUI/cases/GEOCHEM_FWD/GEOCHEM_FWD'\n",
    "case = Path.home()/'github/IORSim_GUI/cases/KURS-07A-FWD/KURS-07A-FWD'\n",
    "time = 100\n",
    "iorexe = Path.home()/'Downloads/IORSim_08-02-23/build/bin/IORSimX'\n",
    "run = dict(root=case, time=time, iorexe=iorexe, delete=False, verbose=4)    \n",
    "#plot = dict(keys=('WBHP','WOPT','WWCT'), wells=())\n",
    "#runsim_with_plot(run=run, plot=plot, update=5)\n",
    "#runsim(root=case, time=time, iorexe=iorexe, delete=True, verbose=4)\n",
    "runsim(**run, only_eclipse=False, merge=True, convert=True)\n",
    "runsim(**run, only_iorsim=True)\n"
   ]
  },
  {
   "cell_type": "code",
   "execution_count": 1,
   "metadata": {},
   "outputs": [
    {
     "name": "stdout",
     "output_type": "stream",
     "text": [
      "key=TIME    , type=REAL, bytes=       4, length=       1, start=       0, end=      36\n",
      "key=DATE    , type=INTE, bytes=      12, length=       3, start=      36, end=      80\n",
      "key=WELLETC , type=C008, bytes=     144, length=      18, start=      80, end=     256\n",
      "('DAYS    ', 'INJ1    ', '        ', 'METRES  ', 'BARSA   ', 'P       ', 'STANDARD', 'SM3/DAY ', 'SM3/DAY ', 'RM3/DAY ', 'M/SEC   ', '        ', '        ', '        ', '        ', '        ', 'DEG C   ', 'KG/M3   ')\n",
      "key=CONIPOS , type=INTE, bytes=       4, length=       1, start=     256, end=     292\n",
      "key=CONJPOS , type=INTE, bytes=       4, length=       1, start=     292, end=     328\n",
      "key=CONKPOS , type=INTE, bytes=       4, length=       1, start=     328, end=     364\n",
      "key=HOSTGRID, type=CHAR, bytes=       8, length=       1, start=     364, end=     404\n",
      "key=CONDEPTH, type=REAL, bytes=       4, length=       1, start=     404, end=     440\n",
      "key=CONMD   , type=REAL, bytes=       4, length=       1, start=     440, end=     476\n",
      "key=CONLENST, type=REAL, bytes=       4, length=       1, start=     476, end=     512\n",
      "key=CONLENEN, type=REAL, bytes=       4, length=       1, start=     512, end=     548\n",
      "key=CONPRES , type=REAL, bytes=       4, length=       1, start=     548, end=     584\n",
      "key=CONORAT , type=REAL, bytes=       4, length=       1, start=     584, end=     620\n",
      "key=CONWRAT , type=REAL, bytes=       4, length=       1, start=     620, end=     656\n",
      "key=CONGRAT , type=REAL, bytes=       4, length=       1, start=     656, end=     692\n",
      "key=CONOTUB , type=REAL, bytes=       4, length=       1, start=     692, end=     728\n",
      "key=CONWTUB , type=REAL, bytes=       4, length=       1, start=     728, end=     764\n",
      "key=CONGTUB , type=REAL, bytes=       4, length=       1, start=     764, end=     800\n",
      "key=CONOTUBL, type=REAL, bytes=       4, length=       1, start=     800, end=     836\n",
      "key=CONWTUBL, type=REAL, bytes=       4, length=       1, start=     836, end=     872\n",
      "key=CONGTUBL, type=REAL, bytes=       4, length=       1, start=     872, end=     908\n",
      "key=CONOTUBD, type=REAL, bytes=       4, length=       1, start=     908, end=     944\n",
      "key=CONGTUBD, type=REAL, bytes=       4, length=       1, start=     944, end=     980\n",
      "key=CONWTUBD, type=REAL, bytes=       4, length=       1, start=     980, end=    1016\n",
      "key=CONVTUB , type=REAL, bytes=       4, length=       1, start=    1016, end=    1052\n",
      "key=CONFAC  , type=REAL, bytes=       4, length=       1, start=    1052, end=    1088\n",
      "key=WELLPLT , type=REAL, bytes=      24, length=       6, start=    1088, end=    1144\n",
      "key=CONNXT  , type=INTE, bytes=       4, length=       1, start=    1144, end=    1180\n"
     ]
    }
   ],
   "source": [
    "import sys\n",
    "from pathlib import Path\n",
    "sys.path.append(str(Path.home()/'github/IORSim_GUI'))\n",
    "from IORlib.ECL import UNRST_file, RFT_file\n",
    "\n",
    "\n",
    "case = Path.home()/'Downloads/test_IX/SIMPLE_TRACER_INTERSECT'\n",
    "#case = Path.home()/'github/IORSim_GUI/cases/KURS-07A-FWD/KURS-07A-FWD'\n",
    "unrst = UNRST_file(case)\n",
    "rft = RFT_file(case)\n",
    "# n = 0\n",
    "# for block in unrst.blocks():\n",
    "#     if unrst.start in block:\n",
    "#         n += 1\n",
    "#     if n > 1:\n",
    "#         break\n",
    "#     print(block)\n",
    "n = 0\n",
    "for block in rft.blocks():\n",
    "    if rft.start in block:\n",
    "        n += 1\n",
    "    if n > 1:\n",
    "        break\n",
    "    print(block)\n",
    "    if 'WELLETC' in block:\n",
    "        print(block.data())\n",
    "#data = next(unrst.sections(start_before='SEQNUM', end_before='SEQNUM'))\n",
    "#next(unrst.read_block(data[-1]))"
   ]
  },
  {
   "cell_type": "code",
   "execution_count": 7,
   "metadata": {},
   "outputs": [
    {
     "name": "stdout",
     "output_type": "stream",
     "text": [
      "a\n"
     ]
    }
   ],
   "source": [
    "s = 'abc'\n",
    "print(s[0])"
   ]
  }
 ],
 "metadata": {
  "kernelspec": {
   "display_name": "Python 3",
   "language": "python",
   "name": "python3"
  },
  "language_info": {
   "codemirror_mode": {
    "name": "ipython",
    "version": 3
   },
   "file_extension": ".py",
   "mimetype": "text/x-python",
   "name": "python",
   "nbconvert_exporter": "python",
   "pygments_lexer": "ipython3",
   "version": "3.8.10"
  },
  "orig_nbformat": 4,
  "vscode": {
   "interpreter": {
    "hash": "26de051ba29f2982a8de78e945f0abaf191376122a1563185a90213a26c5da77"
   }
  }
 },
 "nbformat": 4,
 "nbformat_minor": 2
}
