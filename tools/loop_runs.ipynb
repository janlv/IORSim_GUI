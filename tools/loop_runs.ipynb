{
 "cells": [
  {
   "cell_type": "code",
   "execution_count": 2,
   "metadata": {},
   "outputs": [
    {
     "name": "stdout",
     "output_type": "stream",
     "text": [
      "CASE 0 : EKOFISK_HAUKAAS_2014_BACK\n",
      "--------------------------\n",
      "\n",
      "    Case      : EKOFISK_HAUKAAS_2014_BACK\n",
      "    Mode      : Backward\n",
      "    Days      : 16375\n",
      "    Timestep  : 50.0 - 100.0 days\n",
      "    Schedule  : start=1970-01-05, days=16375.0\n",
      "    Run-dir   : /home/AD.NORCERESEARCH.NO/javi/github/IORSim_GUI/tools\n",
      "    Case-dir  : /home/AD.NORCERESEARCH.NO/javi/github/IORSim_GUI/cases/EKOFISK_HAUKAAS_2014_BACK\n",
      "    Log-files : eclipse.log, iorsim.log, ior2ecl.log\n",
      "    Version   : 3.4\n",
      "    Started   : 2023-03-24 11:07:53\n",
      "\n",
      "\n",
      "   Simulation cancelled                                                            \n",
      "\n",
      "CASE 1 : L18_OLD\n",
      "--------------------------\n",
      "\n",
      "\n",
      "     INFO It is recommended to start IORSim at time 0 instead of 1.0.\n",
      "\n",
      "\n",
      "    Case      : L18_OLD\n",
      "    Mode      : Backward\n",
      "    Days      : 1100\n",
      "    Timestep  : 1.0 - 10.0 days\n",
      "    Schedule  : start=1983-01-01, days=1100.0\n",
      "    Run-dir   : /home/AD.NORCERESEARCH.NO/javi/github/IORSim_GUI/tools\n",
      "    Case-dir  : /home/AD.NORCERESEARCH.NO/javi/github/IORSim_GUI/cases/L18_OLD\n",
      "    Log-files : eclipse.log, iorsim.log, ior2ecl.log\n",
      "    Version   : 3.4\n",
      "    Started   : 2023-03-24 11:08:26\n",
      "\n",
      "\n",
      "   Simulation cancelled                                                                     \n",
      "\n",
      "CASE 2 : KURS-07A\n",
      "--------------------------\n",
      "\n",
      "\n",
      "     INFO It is recommended to start IORSim at time 0 instead of 1.0.\n",
      "\n",
      "\n",
      "    Case      : KURS-07A\n",
      "    Mode      : Backward\n",
      "    Days      : 2000\n",
      "    Timestep  : 10.0 - 20.0 days\n",
      "    Schedule  : start=2020-01-01, days=0\n",
      "    Run-dir   : /home/AD.NORCERESEARCH.NO/javi/github/IORSim_GUI/tools\n",
      "    Case-dir  : /home/AD.NORCERESEARCH.NO/javi/github/IORSim_GUI/cases/KURS-07A\n",
      "    Log-files : eclipse.log, iorsim.log, ior2ecl.log\n",
      "    Version   : 3.4\n",
      "    Started   : 2023-03-24 11:08:43\n",
      "\n",
      "\n",
      "   0 / 2000  [----------------------------------------]  0:00:00 (Eclipse)         "
     ]
    },
    {
     "data": {
      "image/png": "[encoded data removed]",
      "text/plain": [
       "<Figure size 432x288 with 1 Axes>"
      ]
     },
     "metadata": {
      "needs_background": "light"
     },
     "output_type": "display_data"
    },
    {
     "name": "stdout",
     "output_type": "stream",
     "text": [
      "   330 / 2000  [######----------------------------------]  0:01:24 (Eclipse)       "
     ]
    }
   ],
   "source": [
    "import sys\n",
    "from pathlib import Path\n",
    "sys.path.append(str(Path.home()/'github/IORSim_GUI'))\n",
    "#print(sys.path)\n",
    "from ior2ecl import runsim\n",
    "\n",
    "def mypath(dirs):\n",
    "    return Path.home().joinpath(*(dirs.split()))\n",
    "\n",
    "def loop_run(cases, times):\n",
    "    iorexe = mypath('codes IORSim_build bin IORSimX')\n",
    "    cdir = mypath('github IORSim_GUI cases')\n",
    "    n = 0\n",
    "    for case,time in zip(cases, times):\n",
    "        print(f'CASE {n} : {case}\\n--------------------------')\n",
    "        runsim(root=cdir/case/case, time=time, iorexe=iorexe, delete=True, verbose=3, plot={'keys':('WBHP')})\n",
    "        #runsim(root=case, time=time, iorexe=iorexe, delete=True, verbose=3)\n",
    "        n += 1\n",
    "\n",
    "#cases = 10*['EKOFISK_HAUKAAS_2014_BACK', 'L18_OLD', 'KURS-07A', 'SNORRE-IORSIM-OLD', 'GEOCHEM_BACK', 'GEOCHEM_FWD']\n",
    "#times = 10*[ 16375,                       1100 , 2000      , 3800               , 1000          , 1000]\n",
    "cases = ['KURS-07A']\n",
    "times = [1000]\n",
    "loop_run(cases, times)\n",
    "\n"
   ]
  }
 ],
 "metadata": {
  "kernelspec": {
   "display_name": "Python 3",
   "language": "python",
   "name": "python3"
  },
  "language_info": {
   "codemirror_mode": {
    "name": "ipython",
    "version": 3
   },
   "file_extension": ".py",
   "mimetype": "text/x-python",
   "name": "python",
   "nbconvert_exporter": "python",
   "pygments_lexer": "ipython3",
   "version": "3.8.10"
  },
  "orig_nbformat": 4
 },
 "nbformat": 4,
 "nbformat_minor": 2
}
