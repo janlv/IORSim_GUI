{
 "cells": [
  {
   "cell_type": "code",
   "execution_count": null,
   "metadata": {},
   "outputs": [],
   "source": [
    "def g(n):\n",
    "    for i in range(10):\n",
    "        yield i*n"
   ]
  },
  {
   "cell_type": "code",
   "execution_count": null,
   "metadata": {},
   "outputs": [],
   "source": [
    "class conman:\n",
    "    def __init__(self) -> None:\n",
    "        pass\n",
    "\n",
    "    def __enter__(self):\n",
    "        print('ENTER')\n",
    "        return self\n",
    "\n",
    "    def __exit__(self, *args):\n",
    "        print('EXIT')"
   ]
  },
  {
   "cell_type": "code",
   "execution_count": null,
   "metadata": {},
   "outputs": [],
   "source": [
    "def gen(n):\n",
    "    with conman() as con:\n",
    "        for i in range(n):\n",
    "            yield i*n"
   ]
  },
  {
   "cell_type": "code",
   "execution_count": null,
   "metadata": {},
   "outputs": [],
   "source": [
    "from contextlib import contextmanager\n",
    "@contextmanager\n",
    "def zipper(*gen):\n",
    "    try:\n",
    "        yield zip(*gen)\n",
    "    finally:\n",
    "        [g.close() for g in gen]"
   ]
  },
  {
   "cell_type": "code",
   "execution_count": null,
   "metadata": {},
   "outputs": [],
   "source": [
    "gs = (gen(5), gen(10))\n",
    "with zipper(*gs) as z:\n",
    "    for a,b in z:\n",
    "        print(a,b)\n",
    "#[g.close() for g in gs];"
   ]
  },
  {
   "cell_type": "code",
   "execution_count": null,
   "metadata": {},
   "outputs": [],
   "source": [
    "from pathlib import Path\n",
    "class cfile:\n",
    "    def __init__(self, *args, nr=None, path=None) -> None:\n",
    "        self.base = len(args)==2 and '.'.join(args) or '' #f'{root}.{ext}' or ''\n",
    "        self.nr = nr and (lambda x : f'{x:{nr}}') or (lambda x : '')\n",
    "        self.path = path\n",
    "\n",
    "    def __repr__(self) -> str:\n",
    "        return f'<cfile path:{self.path}>'\n",
    "\n",
    "    def __call__(self, n):\n",
    "        self.path = Path(self.base + self.nr(n))\n",
    "        return self\n",
    "\n",
    "    def all(self):\n",
    "        nr = self.nr(0).replace('0','?')\n",
    "        path = Path(self.base + nr)\n",
    "        return (cfile(path=f) for f in path.parent.glob(path.name))\n"
   ]
  },
  {
   "cell_type": "code",
   "execution_count": null,
   "metadata": {},
   "outputs": [],
   "source": [
    "from IORlib.runner import Control_file\n",
    "ext = ('.I', '03d')\n",
    "ifile = Control_file('ROOT', *ext, log=print)\n",
    "#ifile(2).create()\n",
    "[ifile(n).create() for n in range(5)]\n",
    "print(ifile(1).is_deleted())\n",
    "ifile(10).create_from(string='NR 10')\n",
    "ifile(10).append('MER her')\n",
    "src = ifile(10).path()\n",
    "ifile(10).create_from(file=src, delete=True)\n",
    "ifile(10).delete()\n",
    "ifile.delete_all()\n",
    "ifile(1).is_deleted()\n",
    "#[f.delete() for f in ifile.all()]\n",
    "#ifile(2).delete()"
   ]
  },
  {
   "cell_type": "code",
   "execution_count": 6,
   "metadata": {},
   "outputs": [
    {
     "name": "stdout",
     "output_type": "stream",
     "text": [
      "[[334.0]]\n"
     ]
    }
   ],
   "source": [
    "from IORlib.ECL import MSG_file, PRT_file\n",
    "from pathlib import Path\n",
    "root = Path().home()/'Downloads'/'EKOFISK_HAUKAAS_2014.MSG'\n",
    "msg = MSG_file(root)\n",
    "print(msg.get('time',)[0][-1])"
   ]
  },
  {
   "cell_type": "code",
   "execution_count": 3,
   "metadata": {},
   "outputs": [
    {
     "data": {
      "text/plain": [
       "' name'"
      ]
     },
     "execution_count": 3,
     "metadata": {},
     "output_type": "execute_result"
    }
   ],
   "source": [
    "a = ''.rstrip().lstrip()\n",
    "b = 'name'\n",
    "' '.join((a,b))"
   ]
  }
 ],
 "metadata": {
  "kernelspec": {
   "display_name": "Python 3.9.12 64-bit",
   "language": "python",
   "name": "python3"
  },
  "language_info": {
   "codemirror_mode": {
    "name": "ipython",
    "version": 3
   },
   "file_extension": ".py",
   "mimetype": "text/x-python",
   "name": "python",
   "nbconvert_exporter": "python",
   "pygments_lexer": "ipython3",
   "version": "3.9.12"
  },
  "orig_nbformat": 4,
  "vscode": {
   "interpreter": {
    "hash": "aee8b7b246df8f9039afb4144a1f6fd8d2ca17a180786b69acc140d282b71a49"
   }
  }
 },
 "nbformat": 4,
 "nbformat_minor": 2
}
